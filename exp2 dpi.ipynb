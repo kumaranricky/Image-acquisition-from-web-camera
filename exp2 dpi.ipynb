{
 "cells": [
  {
   "cell_type": "code",
   "execution_count": 1,
   "id": "6410a3e1",
   "metadata": {},
   "outputs": [],
   "source": [
    "import cv2\n",
    "import numpy as np\n",
    "v1=cv2.VideoCapture(0)\n"
   ]
  },
  {
   "cell_type": "code",
   "execution_count": null,
   "id": "e974a94f",
   "metadata": {},
   "outputs": [],
   "source": [
    "import cv2\n",
    "\n",
    "videoCaptureObject = cv2.VideoCapture(0)\n",
    "\n",
    "\n",
    "while(True):\n",
    "    ret,frame = v1.read()\n",
    "    cv2.imwrite(\"log.jpg\",frame)\n",
    "    result = False\n",
    "v1.release()\n",
    "cv2.destroyAllWindows()\n"
   ]
  },
  {
   "cell_type": "code",
   "execution_count": null,
   "id": "eb52977f",
   "metadata": {},
   "outputs": [],
   "source": [
    "v1=cv2.VideoCapture(0)\n",
    "while(True):\n",
    "    rel,frame=v1.read()\n",
    "    cv2.imshow(\"log.jpg\",frame)\n",
    "    if cv2.waitKey(1)==ord('k'):\n",
    "        break\n",
    "v1.release() \n",
    "cv2.destroyAllWindows()"
   ]
  },
  {
   "cell_type": "code",
   "execution_count": 3,
   "id": "a49ec70c",
   "metadata": {},
   "outputs": [],
   "source": [
    "\n",
    "v2=cv2.VideoCapture(0)\n",
    "while True:\n",
    "    ret,frame=v2.read()\n",
    "    width=int(v2.get(3))\n",
    "    height=int(v2.get(4))\n",
    "    \n",
    "    image=np.zeros(frame.shape, np.uint8)\n",
    "    smaller_frame=cv2.resize(frame,(0,1),fx=0.5,fy=0.5)\n",
    "    image[:height//2, :width//2] = smaller_frame\n",
    "    image[height//2:, :width//2] = smaller_frame\n",
    "    image[:height//2, width//2:] = smaller_frame\n",
    "    image[height//2:, width//2:] = smaller_frame\n",
    "    \n",
    "    cv2.imshow(\"kum\",image)\n",
    "    if cv2.waitKey(1)==ord('k'):\n",
    "        break\n",
    "v2.release() \n",
    "cv2.destroyAllWindows()"
   ]
  },
  {
   "cell_type": "code",
   "execution_count": null,
   "id": "5f1ad5fd",
   "metadata": {},
   "outputs": [],
   "source": [
    "\n",
    "v2=cv2.VideoCapture(0)\n",
    "while True:\n",
    "    ret,frame=v2.read()\n",
    "    width=int(v2.get(3))\n",
    "    height=int(v2.get(4))\n",
    "    \n",
    "    image=np.zeros(frame.shape, np.uint8)\n",
    "    smaller_frame=cv2.resize(frame,(0,1),fx=0.5,fy=0.5)\n",
    "    image[:height//2, :width//2] = cv2.rotate(smaller_frame,cv2.cv2.ROTATE_180)\n",
    "    image[height//2:, :width//2] = cv2.rotate(smaller_frame,cv2.cv2.ROTATE_180)\n",
    "    image[:height//2, width//2:] = cv2.rotate(smaller_frame,cv2.cv2.ROTATE_180)\n",
    "    image[height//2:, width//2:] = cv2.rotate(smaller_frame,cv2.cv2.ROTATE_180)\n",
    "    \n",
    "    cv2.imshow(\"kum\",image)\n",
    "    if cv2.waitKey(1)==ord('k'):\n",
    "        break\n",
    "v2.release() \n",
    "cv2.destroyAllWindows()"
   ]
  },
  {
   "cell_type": "code",
   "execution_count": null,
   "id": "9eed046a",
   "metadata": {},
   "outputs": [],
   "source": [
    "\n",
    "import cv2\n",
    "bw=cv2.imread(\"AM.jpeg\",1)\n",
    "cv2.imshow('212220230026-kumaran',bw)"
   ]
  },
  {
   "cell_type": "code",
   "execution_count": null,
   "id": "97ae4c5b",
   "metadata": {},
   "outputs": [],
   "source": [
    "\n",
    "    "
   ]
  },
  {
   "cell_type": "code",
   "execution_count": null,
   "id": "4129206f",
   "metadata": {},
   "outputs": [],
   "source": []
  },
  {
   "cell_type": "code",
   "execution_count": null,
   "id": "bc7e75b1",
   "metadata": {},
   "outputs": [],
   "source": []
  },
  {
   "cell_type": "code",
   "execution_count": null,
   "id": "df961fe1",
   "metadata": {},
   "outputs": [],
   "source": []
  },
  {
   "cell_type": "code",
   "execution_count": null,
   "id": "d3f3cbaa",
   "metadata": {},
   "outputs": [],
   "source": []
  },
  {
   "cell_type": "code",
   "execution_count": null,
   "id": "f1444958",
   "metadata": {},
   "outputs": [],
   "source": []
  }
 ],
 "metadata": {
  "kernelspec": {
   "display_name": "Python 3",
   "language": "python",
   "name": "python3"
  },
  "language_info": {
   "codemirror_mode": {
    "name": "ipython",
    "version": 3
   },
   "file_extension": ".py",
   "mimetype": "text/x-python",
   "name": "python",
   "nbconvert_exporter": "python",
   "pygments_lexer": "ipython3",
   "version": "3.8.8"
  }
 },
 "nbformat": 4,
 "nbformat_minor": 5
}
